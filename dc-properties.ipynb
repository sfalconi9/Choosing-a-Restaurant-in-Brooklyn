{
 "cells": [
  {
   "cell_type": "markdown",
   "metadata": {
    "_uuid": "2cc875adbb687648b0d91d075fa2f25309e308e3"
   },
   "source": [
    "## Importing all the libraries required for the analysis"
   ]
  },
  {
   "cell_type": "code",
   "execution_count": null,
   "metadata": {
    "_uuid": "17ccd0833358fcf410be2607fd5e6c4721ab2fb8",
    "collapsed": true
   },
   "outputs": [],
   "source": [
    "import numpy as np\n",
    "import pandas as pd\n",
    "import matplotlib.pyplot as plt\n",
    "from sklearn.preprocessing import PolynomialFeatures\n",
    "from sklearn.linear_model import LinearRegression\n",
    "from sklearn.pipeline import Pipeline\n",
    "from sklearn import metrics\n",
    "import matplotlib.pyplot as plt\n",
    "import seaborn as sns\n",
    "from sklearn.cross_validation import ShuffleSplit,train_test_split\n",
    "from sklearn.linear_model import LinearRegression\n",
    "from sklearn.metrics import mean_squared_error, r2_score\n",
    "import statsmodels.api as sm\n",
    "from sklearn.linear_model import Ridge, RidgeCV, Lasso, LassoCV\n",
    "from sklearn import svm\n",
    "from sklearn.neighbors import KNeighborsRegressor\n",
    "from sklearn.svm import SVR\n",
    "from sklearn.ensemble import RandomForestRegressor\n",
    "from sklearn.model_selection import train_test_split, GridSearchCV\n",
    "from sklearn.ensemble import GradientBoostingRegressor\n",
    "from scipy import stats\n",
    "from scipy.stats import norm, skew\n",
    "import folium\n",
    "from mpl_toolkits.basemap import Basemap"
   ]
  },
  {
   "cell_type": "code",
   "execution_count": null,
   "metadata": {
    "_uuid": "807bb7359b0bf6f83ff355df7c8a27806ddb451c",
    "collapsed": true
   },
   "outputs": [],
   "source": [
    "import os\n",
    "print(os.listdir(\"../input\"))"
   ]
  },
  {
   "cell_type": "code",
   "execution_count": null,
   "metadata": {
    "_uuid": "a3b58c3d01c3278d500be86785fcf26c1b7183f2",
    "collapsed": true
   },
   "outputs": [],
   "source": [
    "dc = pd.read_csv(\"../input/DC_Properties.csv\")\n",
    "dc.head()"
   ]
  },
  {
   "cell_type": "code",
   "execution_count": null,
   "metadata": {
    "_uuid": "48fb5c964a3737742b681fb7df3a025b404bbe60",
    "collapsed": true
   },
   "outputs": [],
   "source": [
    "dc.info()"
   ]
  },
  {
   "cell_type": "code",
   "execution_count": null,
   "metadata": {
    "_uuid": "5e9ac83fa5d1ebc4fe69f8b3a740f230e707c0ed",
    "collapsed": true
   },
   "outputs": [],
   "source": [
    "print(dc.isnull().sum())"
   ]
  },
  {
   "cell_type": "markdown",
   "metadata": {
    "_uuid": "2c8045e1b74924ae7364ec6d69eb93ab09739791"
   },
   "source": [
    "## Calculating the missing value percentage in each column"
   ]
  },
  {
   "cell_type": "code",
   "execution_count": null,
   "metadata": {
    "_uuid": "1a2472153d79c51986567d671e95a9ed8dfb3b24",
    "collapsed": true,
    "scrolled": true
   },
   "outputs": [],
   "source": [
    "dc_na = (dc.isnull().sum() / len(dc)) * 100\n",
    "dc_na = dc_na.drop(dc_na[dc_na == 0].index).sort_values(ascending=False)[:30]\n",
    "missing_data = pd.DataFrame({'Missing %' :dc_na})\n",
    "missing_data.head(20)"
   ]
  },
  {
   "cell_type": "code",
   "execution_count": null,
   "metadata": {
    "_uuid": "de806c108da55cbb6bdfc3a20f311a6dd9df662e",
    "collapsed": true
   },
   "outputs": [],
   "source": [
    "f, ax = plt.subplots(figsize=(15, 12))\n",
    "sns.barplot(y=dc_na.index, x=dc_na)\n",
    "plt.xlabel('Features', fontsize=15)\n",
    "plt.ylabel('Percent of missing values', fontsize=15)\n",
    "plt.title('Percent missing data by feature', fontsize=15)\n",
    "plt.show()"
   ]
  },
  {
   "cell_type": "markdown",
   "metadata": {
    "_uuid": "24694c37212b21de87a6b27d948c8b454392fe6a"
   },
   "source": [
    "## Plotting the location using basemap and Folium map"
   ]
  },
  {
   "cell_type": "code",
   "execution_count": null,
   "metadata": {
    "_uuid": "7712c87553dbb74f05100c58d87021dcab222ac0",
    "collapsed": true
   },
   "outputs": [],
   "source": [
    "lat = dc['LATITUDE'].values\n",
    "lon = dc['LONGITUDE'].values\n",
    "\n",
    "# 1. Draw the map background\n",
    "fig = plt.figure(figsize=(8, 8))\n",
    "m = Basemap(projection='lcc', resolution='l', \n",
    "            lat_0=39, lon_0=-78,\n",
    "            width=1E6, height=1.2E6)\n",
    "m.shadedrelief()\n",
    "m.drawcoastlines(color='gray')\n",
    "m.drawcountries(color='gray')\n",
    "m.drawstates(color='gray')\n",
    "\n",
    "# 2. scatter lat and long values\n",
    "\n",
    "m.scatter(lon, lat, latlon=True,\n",
    "          cmap='Reds', alpha=0.5)\n",
    "plt.show()"
   ]
  },
  {
   "cell_type": "code",
   "execution_count": null,
   "metadata": {
    "_uuid": "936459eaa2695a034b810138d86bad89d0d0493c",
    "collapsed": true
   },
   "outputs": [],
   "source": [
    "locations = dc[['LATITUDE', 'LONGITUDE']]\n",
    "locationlist = locations.values.tolist()\n",
    "print(len(locationlist))\n",
    "print(locationlist[1])\n",
    "map = folium.Map(location=[38.9146833, -77.04076447], zoom_start=12)\n",
    "folium.Marker(locationlist[1]).add_to(map)\n",
    "map"
   ]
  },
  {
   "cell_type": "markdown",
   "metadata": {
    "_uuid": "ce5ef6261e5e36c6c16f8f6faf4058c57d7cd031"
   },
   "source": [
    "### Commented because it is taking a huge time to execute marking 100k  records on the folium map)"
   ]
  },
  {
   "cell_type": "code",
   "execution_count": null,
   "metadata": {
    "_uuid": "cf6608d5796e8edca3e486a0f06608b2d80c561b",
    "collapsed": true
   },
   "outputs": [],
   "source": [
    "# map = folium.Map(location=[38.9146833, -77.04076447], zoom_start=12)\n",
    "# for point in range(0, len(locationlist)):\n",
    "#    folium.Marker(locationlist[point]).add_to(map)\n",
    "# map    "
   ]
  },
  {
   "cell_type": "code",
   "execution_count": null,
   "metadata": {
    "_uuid": "80f5dd385a6e176a2f95cd5dcf4a6b42f2cba89b",
    "collapsed": true
   },
   "outputs": [],
   "source": [
    "dc_clean=dc\n",
    "dc_clean.head()"
   ]
  },
  {
   "cell_type": "markdown",
   "metadata": {
    "_uuid": "e31bbda80d74da34e4d0125580ba8e4691c77838"
   },
   "source": [
    "# Missing Value Treatment"
   ]
  },
  {
   "cell_type": "code",
   "execution_count": null,
   "metadata": {
    "_uuid": "8029f408d9a9a8f762e432708ced5111e96fecc8",
    "collapsed": true
   },
   "outputs": [],
   "source": [
    "dc_clean=dc_clean.drop(['NATIONALGRID','ASSESSMENT_SUBNBHD','CENSUS_BLOCK','X','Y','QUADRANT'], axis=1)"
   ]
  },
  {
   "cell_type": "code",
   "execution_count": null,
   "metadata": {
    "_uuid": "c851d14a475462f72f1f69e92df26899f4ec99b2",
    "collapsed": true
   },
   "outputs": [],
   "source": [
    "dc_clean.NUM_UNITS[dc_clean.NUM_UNITS.isnull()] =  dc_clean.NUM_UNITS.mode().iloc[0]"
   ]
  },
  {
   "cell_type": "code",
   "execution_count": null,
   "metadata": {
    "_uuid": "c4f95537d2c5d50208d2f33682d59e253676e5bb",
    "collapsed": true
   },
   "outputs": [],
   "source": [
    "dc_clean.loc[dc_clean['YR_RMDL'].isnull(), 'YR_RMDL'] = dc_clean['EYB']"
   ]
  },
  {
   "cell_type": "code",
   "execution_count": null,
   "metadata": {
    "_uuid": "e921942ec5210cb96fa409f7538434c67df12ff6",
    "collapsed": true
   },
   "outputs": [],
   "source": [
    "dc_clean.loc[dc_clean['AYB'].isnull(), 'AYB'] = dc_clean['EYB']"
   ]
  },
  {
   "cell_type": "code",
   "execution_count": null,
   "metadata": {
    "_uuid": "a3cd2b3156e5cc047225efccc00f129bb0ad5241",
    "collapsed": true
   },
   "outputs": [],
   "source": [
    "dc_clean.STORIES=dc_clean.STORIES.round()\n",
    "dc_clean.STORIES[dc_clean.STORIES.isnull()] =  dc_clean.STORIES.mode().iloc[0]"
   ]
  },
  {
   "cell_type": "code",
   "execution_count": null,
   "metadata": {
    "_uuid": "7a5a44df7225aa0411704fc00524af584b415a72",
    "collapsed": true
   },
   "outputs": [],
   "source": [
    "print(dc_clean.GBA.describe())\n",
    "dc_clean.GBA[dc_clean.GBA.isnull()] =  dc_clean.GBA.mean()"
   ]
  },
  {
   "cell_type": "code",
   "execution_count": null,
   "metadata": {
    "_uuid": "e6ae9384efc7da085b559d15d73f703c3c1b7445",
    "collapsed": true,
    "scrolled": true
   },
   "outputs": [],
   "source": [
    "dc_clean.STYLE[dc_clean.STYLE.isnull()] =  dc_clean.STYLE.mode().iloc[0]"
   ]
  },
  {
   "cell_type": "code",
   "execution_count": null,
   "metadata": {
    "_uuid": "e20e29410bed66f2063612c4e64e3f4ae37dc39e",
    "collapsed": true
   },
   "outputs": [],
   "source": [
    "dc_clean.STRUCT[dc_clean.STRUCT.isnull()] =  dc_clean.STRUCT.mode().iloc[0]\n",
    "dc_clean.GRADE[dc_clean.GRADE.isnull()] =  dc_clean.GRADE.mode().iloc[0]\n",
    "dc_clean.CNDTN[dc_clean.CNDTN.isnull()] =  dc_clean.CNDTN.mode().iloc[0]\n",
    "dc_clean.EXTWALL[dc_clean.EXTWALL.isnull()] =  dc_clean.EXTWALL.mode().iloc[0]\n",
    "dc_clean.ROOF[dc_clean.ROOF.isnull()] =  dc_clean.ROOF.mode().iloc[0]\n",
    "dc_clean.INTWALL[dc_clean.INTWALL.isnull()] =  dc_clean.INTWALL.mode().iloc[0]\n",
    "dc_clean.KITCHENS[dc_clean.KITCHENS.isnull()] =  dc_clean.KITCHENS.mode().iloc[0]"
   ]
  },
  {
   "cell_type": "code",
   "execution_count": null,
   "metadata": {
    "_uuid": "5b256dad7c75cd1e131ac1a5330c74cdd32e8c42",
    "collapsed": true,
    "scrolled": true
   },
   "outputs": [],
   "source": [
    "print(dc_clean.LIVING_GBA.describe())\n",
    "dc_clean.LIVING_GBA[dc_clean.LIVING_GBA.isnull()] =  dc_clean.LIVING_GBA.median()"
   ]
  },
  {
   "cell_type": "code",
   "execution_count": null,
   "metadata": {
    "_uuid": "3798302fb7c7d55e56ecc3130938454d361f9668",
    "collapsed": true
   },
   "outputs": [],
   "source": [
    "dc_clean['CMPLX_NUM1'] = dc_clean['FULLADDRESS'].str[0:4]\n",
    "dc_clean.loc[dc_clean['CMPLX_NUM'].isnull(), 'CMPLX_NUM'] = dc_clean['CMPLX_NUM1']\n",
    "dc_clean.CMPLX_NUM[dc_clean.CMPLX_NUM.isnull()] =  dc_clean.CMPLX_NUM.mode().iloc[0]"
   ]
  },
  {
   "cell_type": "code",
   "execution_count": null,
   "metadata": {
    "_uuid": "89f070797b2dca5bfced396baaf0c43518415f75",
    "collapsed": true
   },
   "outputs": [],
   "source": [
    "dc_clean.CITY[dc_clean.CITY.isnull()] =  'WASHINGTON'\n",
    "dc_clean.STATE[dc_clean.STATE.isnull()] =  'DC'"
   ]
  },
  {
   "cell_type": "code",
   "execution_count": null,
   "metadata": {
    "_uuid": "e7d2b46d0c8823b35dccb3d0e12af553d113d547",
    "collapsed": true
   },
   "outputs": [],
   "source": [
    "dc_clean.LATITUDE[dc_clean.LATITUDE.isnull()] =  38.9146833\n",
    "dc_clean.LONGITUDE[dc_clean.LONGITUDE.isnull()] =  -77.04076447"
   ]
  },
  {
   "cell_type": "code",
   "execution_count": null,
   "metadata": {
    "_uuid": "b5ccc7e0c17a7e315c1270d963f719957954440e",
    "collapsed": true
   },
   "outputs": [],
   "source": [
    "dc_clean=dc_clean.drop(['FULLADDRESS','CMPLX_NUM1'], axis=1)"
   ]
  },
  {
   "cell_type": "code",
   "execution_count": null,
   "metadata": {
    "_uuid": "b466e43917d47cc8e7d3e8549073d5bb68b221ed",
    "collapsed": true,
    "scrolled": true
   },
   "outputs": [],
   "source": [
    "dc_clean.head()"
   ]
  },
  {
   "cell_type": "code",
   "execution_count": null,
   "metadata": {
    "_uuid": "72b124b4e59c06e358a115471e6ccd6d7c8b6741",
    "collapsed": true,
    "scrolled": true
   },
   "outputs": [],
   "source": [
    "dc_clean.info()"
   ]
  },
  {
   "cell_type": "code",
   "execution_count": null,
   "metadata": {
    "_uuid": "bc5243a9efc06b71fcd7863df75f2ec93a7196d4",
    "collapsed": true
   },
   "outputs": [],
   "source": [
    "unknown_data=dc_clean[dc_clean.PRICE.isnull()]"
   ]
  },
  {
   "cell_type": "code",
   "execution_count": null,
   "metadata": {
    "_uuid": "517d5996b3c50ea475f766bd575a69db14e702c4",
    "collapsed": true,
    "scrolled": false
   },
   "outputs": [],
   "source": [
    "unknown_data.head()"
   ]
  },
  {
   "cell_type": "code",
   "execution_count": null,
   "metadata": {
    "_uuid": "527492a836d3d1adb6906572a8abd5a2d8741535",
    "collapsed": true
   },
   "outputs": [],
   "source": [
    "dc_clean = dc_clean[dc_clean.PRICE.notnull()]\n",
    "dc_clean.head()"
   ]
  },
  {
   "cell_type": "code",
   "execution_count": null,
   "metadata": {
    "_uuid": "e8c2957a9cfcefb0e51ab184e8aa48951e3714fa",
    "collapsed": true
   },
   "outputs": [],
   "source": [
    "dc_clean.rename(columns={\"Unnamed: 0\": \"id\"}, inplace= True)\n",
    "dc_clean.set_index(\"id\", inplace = True)"
   ]
  },
  {
   "cell_type": "code",
   "execution_count": null,
   "metadata": {
    "_uuid": "fcd33a406530bf128b1346e597a93a3fb7c2470f",
    "collapsed": true,
    "scrolled": true
   },
   "outputs": [],
   "source": [
    "dc_clean.head()"
   ]
  },
  {
   "cell_type": "code",
   "execution_count": null,
   "metadata": {
    "_uuid": "f7828f89f6633fe3f62d5be9e11931e55bd93ff1",
    "collapsed": true
   },
   "outputs": [],
   "source": [
    "unknown_data.rename(columns={\"Unnamed: 0\": \"id\"}, inplace= True)\n",
    "unknown_data.set_index(\"id\", inplace = True)\n",
    "unknown_data.head()"
   ]
  },
  {
   "cell_type": "markdown",
   "metadata": {
    "_uuid": "014c9c7182a581ea44e7f791ae0ffb659747da59"
   },
   "source": [
    "## Creating the Dummy variable for object datatype variables"
   ]
  },
  {
   "cell_type": "code",
   "execution_count": null,
   "metadata": {
    "_uuid": "8a70e747a23918102d29c7888308806f578602c9",
    "collapsed": true
   },
   "outputs": [],
   "source": [
    "dc_clean = pd.get_dummies(dc_clean, prefix='HEAT_', columns=['HEAT'])\n",
    "dc_clean = pd.get_dummies(dc_clean, prefix='AC_', columns=['AC'])\n",
    "dc_clean = pd.get_dummies(dc_clean, prefix='QUALIFIED_', columns=['QUALIFIED'])\n",
    "dc_clean = pd.get_dummies(dc_clean, prefix='STYLE_', columns=['STYLE'])\n",
    "dc_clean = pd.get_dummies(dc_clean, prefix='STRUCT_', columns=['STRUCT'])\n",
    "dc_clean = pd.get_dummies(dc_clean, prefix='GRADE_', columns=['GRADE'])\n",
    "dc_clean = pd.get_dummies(dc_clean, prefix='CNDTN_', columns=['CNDTN'])\n",
    "dc_clean = pd.get_dummies(dc_clean, prefix='EXTWALL_', columns=['EXTWALL'])\n",
    "dc_clean = pd.get_dummies(dc_clean, prefix='ROOF_', columns=['ROOF'])\n",
    "dc_clean = pd.get_dummies(dc_clean, prefix='INTWALL_', columns=['INTWALL'])\n",
    "dc_clean = pd.get_dummies(dc_clean, prefix='SOURCE_', columns=['SOURCE'])\n",
    "dc_clean = pd.get_dummies(dc_clean, prefix='WARD_', columns=['WARD'])"
   ]
  },
  {
   "cell_type": "code",
   "execution_count": null,
   "metadata": {
    "_uuid": "fa47c47c6744fbbda4061449130ff0d9d6e75d5b",
    "collapsed": true,
    "scrolled": false
   },
   "outputs": [],
   "source": [
    "print(dc_clean.describe())"
   ]
  },
  {
   "cell_type": "markdown",
   "metadata": {
    "_uuid": "71cc988da0bb32f79587343a8fbdf9a9e2c7eeae"
   },
   "source": [
    "## Performing Stepwise regression to find the most significant variables"
   ]
  },
  {
   "cell_type": "code",
   "execution_count": null,
   "metadata": {
    "_uuid": "c5405904f018af46b20d875606ceeb288137cd8a",
    "collapsed": true
   },
   "outputs": [],
   "source": [
    "def stepwise_selection(X, y, \n",
    "                       initial_list=[], \n",
    "                       threshold_in=0.01, \n",
    "                       threshold_out = 0.05, \n",
    "                       verbose=True):\n",
    "    \"\"\" Perform a forward-backward feature selection \n",
    "    based on p-value from statsmodels.api.OLS\n",
    "    Arguments:\n",
    "        X - pandas.DataFrame with candidate features\n",
    "        y - list-like with the target\n",
    "        initial_list - list of features to start with (column names of X)\n",
    "        threshold_in - include a feature if its p-value < threshold_in\n",
    "        threshold_out - exclude a feature if its p-value > threshold_out\n",
    "        verbose - whether to print the sequence of inclusions and exclusions\n",
    "    Returns: list of selected features \n",
    "    Always set threshold_in < threshold_out to avoid infinite looping.\n",
    "    \"\"\"\n",
    "    included = list(initial_list)\n",
    "    while True:\n",
    "        changed=False\n",
    "        # forward step\n",
    "        excluded = list(set(X.columns)-set(included))\n",
    "        new_pval = pd.Series(index=excluded)\n",
    "        for new_column in excluded:\n",
    "            model = sm.OLS(y, sm.add_constant(pd.DataFrame(X[included+[new_column]]))).fit()\n",
    "            new_pval[new_column] = model.pvalues[new_column]\n",
    "        best_pval = new_pval.min()\n",
    "        if best_pval < threshold_in:\n",
    "            best_feature = new_pval.argmin()\n",
    "            included.append(best_feature)\n",
    "            changed=True\n",
    "            if verbose:\n",
    "                print('Add  {:30} with p-value {:.6}'.format(best_feature, best_pval))\n",
    "\n",
    "        # backward step\n",
    "        model = sm.OLS(y, sm.add_constant(pd.DataFrame(X[included]))).fit()\n",
    "        # use all coefs except intercept\n",
    "        pvalues = model.pvalues.iloc[1:]\n",
    "        worst_pval = pvalues.max() # null if pvalues is empty\n",
    "        if worst_pval > threshold_out:\n",
    "            changed=True\n",
    "            worst_feature = pvalues.argmax()\n",
    "            included.remove(worst_feature)\n",
    "            if verbose:\n",
    "                print('Drop {:30} with p-value {:.6}'.format(worst_feature, worst_pval))\n",
    "        if not changed:\n",
    "            break\n",
    "    return included"
   ]
  },
  {
   "cell_type": "code",
   "execution_count": null,
   "metadata": {
    "_uuid": "485620d471d3bd47ed257e91cdd4318b2fbee521",
    "collapsed": true
   },
   "outputs": [],
   "source": [
    "X = dc_clean[['BATHRM', 'HF_BATHRM', 'NUM_UNITS', 'ROOMS', 'BEDRM', 'AYB',\n",
    "       'YR_RMDL', 'EYB', 'STORIES', 'SALE_NUM',\n",
    "       'GBA', 'BLDG_NUM', 'KITCHENS', 'FIREPLACES', 'USECODE', 'LANDAREA',\n",
    "         'LIVING_GBA',\n",
    "       'ZIPCODE', 'LATITUDE', 'LONGITUDE',\n",
    "       'CENSUS_TRACT', 'HEAT__Air Exchng', 'HEAT__Air-Oil',\n",
    "       'HEAT__Elec Base Brd', 'HEAT__Electric Rad', 'HEAT__Evp Cool',\n",
    "       'HEAT__Forced Air', 'HEAT__Gravity Furnac', 'HEAT__Hot Water Rad',\n",
    "       'HEAT__Ht Pump', 'HEAT__Ind Unit', 'HEAT__No Data',\n",
    "       'HEAT__Wall Furnace', 'HEAT__Warm Cool', 'HEAT__Water Base Brd',\n",
    "       'AC__0', 'AC__N', 'AC__Y', 'QUALIFIED__Q', 'QUALIFIED__U',\n",
    "       'STYLE__1 Story', 'STYLE__1.5 Story Fin', 'STYLE__1.5 Story Unfin',\n",
    "       'STYLE__2 Story', 'STYLE__2.5 Story Fin', 'STYLE__2.5 Story Unfin',\n",
    "       'STYLE__3 Story', 'STYLE__3.5 Story Fin', 'STYLE__3.5 Story Unfin',\n",
    "       'STYLE__4 Story', 'STYLE__4.5 Story Fin', 'STYLE__4.5 Story Unfin',\n",
    "       'STYLE__Bi-Level', 'STYLE__Default', 'STYLE__Outbuildings',\n",
    "       'STYLE__Split Foyer', 'STYLE__Split Level', 'STYLE__Vacant',\n",
    "       'STRUCT__Default', 'STRUCT__Multi', 'STRUCT__Row End',\n",
    "       'STRUCT__Row Inside', 'STRUCT__Semi-Detached', 'STRUCT__Single',\n",
    "       'STRUCT__Town End', 'STRUCT__Town Inside', 'GRADE__Above Average',\n",
    "       'GRADE__Average', 'GRADE__Excellent', 'GRADE__Exceptional-A',\n",
    "       'GRADE__Exceptional-B', 'GRADE__Exceptional-C',\n",
    "       'GRADE__Exceptional-D', 'GRADE__Fair Quality',\n",
    "       'GRADE__Good Quality', 'GRADE__Low Quality', 'GRADE__No Data',\n",
    "       'GRADE__Superior', 'GRADE__Very Good', 'CNDTN__Average',\n",
    "       'CNDTN__Default', 'CNDTN__Excellent', 'CNDTN__Fair', 'CNDTN__Good',\n",
    "       'CNDTN__Poor', 'CNDTN__Very Good', 'EXTWALL__Adobe',\n",
    "       'EXTWALL__Aluminum', 'EXTWALL__Brick Veneer',\n",
    "       'EXTWALL__Brick/Siding', 'EXTWALL__Brick/Stone',\n",
    "       'EXTWALL__Brick/Stucco', 'EXTWALL__Common Brick',\n",
    "       'EXTWALL__Concrete', 'EXTWALL__Concrete Block', 'EXTWALL__Default',\n",
    "       'EXTWALL__Face Brick', 'EXTWALL__Hardboard',\n",
    "       'EXTWALL__Metal Siding', 'EXTWALL__Plywood', 'EXTWALL__SPlaster',\n",
    "       'EXTWALL__Shingle', 'EXTWALL__Stone', 'EXTWALL__Stone Veneer',\n",
    "       'EXTWALL__Stone/Siding', 'EXTWALL__Stone/Stucco',\n",
    "       'EXTWALL__Stucco', 'EXTWALL__Stucco Block',\n",
    "       'EXTWALL__Vinyl Siding', 'EXTWALL__Wood Siding', 'ROOF__Built Up',\n",
    "       'ROOF__Clay Tile', 'ROOF__Comp Shingle', 'ROOF__Composition Ro',\n",
    "       'ROOF__Concrete', 'ROOF__Concrete Tile', 'ROOF__Metal- Cpr',\n",
    "       'ROOF__Metal- Pre', 'ROOF__Metal- Sms', 'ROOF__Neopren',\n",
    "       'ROOF__Shake', 'ROOF__Shingle', 'ROOF__Slate', 'ROOF__Typical',\n",
    "       'ROOF__Water Proof', 'ROOF__Wood- FS', 'INTWALL__Carpet',\n",
    "       'INTWALL__Ceramic Tile', 'INTWALL__Default', 'INTWALL__Hardwood',\n",
    "       'INTWALL__Hardwood/Carp', 'INTWALL__Lt Concrete',\n",
    "       'INTWALL__Parquet', 'INTWALL__Resiliant', 'INTWALL__Terrazo',\n",
    "       'INTWALL__Vinyl Comp', 'INTWALL__Vinyl Sheet',\n",
    "       'INTWALL__Wood Floor', 'SOURCE__Condominium',\n",
    "       'SOURCE__Residential', 'WARD__Ward 1', 'WARD__Ward 2',\n",
    "       'WARD__Ward 3', 'WARD__Ward 4', 'WARD__Ward 5', 'WARD__Ward 6',\n",
    "       'WARD__Ward 7', 'WARD__Ward 8']]\n",
    "y = dc_clean['PRICE']"
   ]
  },
  {
   "cell_type": "code",
   "execution_count": null,
   "metadata": {
    "_uuid": "bb836966f3c8fbc59e75e5f6e69a132b7b9e96a1",
    "collapsed": true
   },
   "outputs": [],
   "source": [
    "result = stepwise_selection(X, y)\n",
    "print('resulting features:')\n",
    "print(result)"
   ]
  },
  {
   "cell_type": "markdown",
   "metadata": {
    "_uuid": "fe8c0f0ef08fedb1d1e79252e6cb823eefb01487"
   },
   "source": [
    "### Including only the significant variables"
   ]
  },
  {
   "cell_type": "code",
   "execution_count": null,
   "metadata": {
    "_uuid": "627028007b0104cbccf2487b3c4d3c65714bf6ba",
    "collapsed": true
   },
   "outputs": [],
   "source": [
    "X = dc_clean[['WARD__Ward 3', 'QUALIFIED__Q', 'HEAT__Ht Pump', 'YR_RMDL', 'QUALIFIED__U', 'EYB', 'LIVING_GBA',\n",
    "              'STRUCT__Single', 'LATITUDE', 'FIREPLACES', 'GRADE__Very Good', 'GRADE__Good Quality', 'AYB', \n",
    "              'GRADE__Excellent', 'WARD__Ward 2', 'CENSUS_TRACT', 'LONGITUDE', 'SALE_NUM', 'WARD__Ward 4',\n",
    "              'ZIPCODE', 'WARD__Ward 7', 'STYLE__3 Story', 'GRADE__Superior', 'STRUCT__Semi-Detached', \n",
    "              'GRADE__Exceptional-C','BATHRM', 'HF_BATHRM', 'NUM_UNITS', 'ROOMS', 'BEDRM']]\n",
    "y = dc_clean['PRICE']"
   ]
  },
  {
   "cell_type": "markdown",
   "metadata": {
    "_uuid": "c175ff5728f504f7e64cb992f047a07b432eb172"
   },
   "source": [
    "## Splitting the train and test data"
   ]
  },
  {
   "cell_type": "code",
   "execution_count": null,
   "metadata": {
    "_uuid": "5547a796887b653fdb886da6e796dbbe03425a58",
    "collapsed": true
   },
   "outputs": [],
   "source": [
    "X_train, X_test, y_train, y_test = train_test_split(X, y, train_size=0.8 , random_state=100)"
   ]
  },
  {
   "cell_type": "markdown",
   "metadata": {
    "_uuid": "6f9ecfeb4f89764a8ff5e5cbe23f94a2327ad4d0"
   },
   "source": [
    "## Correlation matrix"
   ]
  },
  {
   "cell_type": "code",
   "execution_count": null,
   "metadata": {
    "_uuid": "93a1f3d02aecf4dacb19b9bb703fb4f9fdbdb629",
    "collapsed": true
   },
   "outputs": [],
   "source": [
    "corrmat = X_train.corr()\n",
    "plt.subplots(figsize=(12,9))\n",
    "sns.heatmap(corrmat, vmax=0.9, square=True,cmap = \"viridis\")\n",
    "plt.show()"
   ]
  },
  {
   "cell_type": "markdown",
   "metadata": {
    "_uuid": "024b90a0853bd8eabf056698b1c4ba6b5e5e29a6"
   },
   "source": [
    "## OLS model and prediction"
   ]
  },
  {
   "cell_type": "code",
   "execution_count": null,
   "metadata": {
    "_uuid": "5d5d2a4feec09680ae0c27817b6afae2f54ec9fc",
    "collapsed": true
   },
   "outputs": [],
   "source": [
    "X_train_sm = X_train \n",
    "X_train_sm = sm.add_constant(X_train_sm)"
   ]
  },
  {
   "cell_type": "code",
   "execution_count": null,
   "metadata": {
    "_uuid": "dd3d5b56eced6337b6341605c8077816fa54c073",
    "collapsed": true
   },
   "outputs": [],
   "source": [
    "lm_sm = sm.OLS(y_train,X_train_sm).fit()\n",
    "lm_sm.params"
   ]
  },
  {
   "cell_type": "code",
   "execution_count": null,
   "metadata": {
    "_uuid": "852898d814f6e62f8e8bb057737d444b289b5806",
    "collapsed": true,
    "scrolled": true
   },
   "outputs": [],
   "source": [
    "lm_sm.summary()"
   ]
  },
  {
   "cell_type": "code",
   "execution_count": null,
   "metadata": {
    "_uuid": "2695a617f1eac67c71d15060ba651b7e7c6e25d3",
    "collapsed": true
   },
   "outputs": [],
   "source": [
    "X_test_sm = X_test\n",
    "X_test_sm = sm.add_constant(X_test_sm)\n",
    "y_pred_ols = lm_sm.predict(X_test_sm)\n",
    "y_pred_ols"
   ]
  },
  {
   "cell_type": "code",
   "execution_count": null,
   "metadata": {
    "_uuid": "491438afd344cf205d9dbb32c767f4f8d7e209b1",
    "collapsed": true
   },
   "outputs": [],
   "source": [
    "mse = mean_squared_error(y_test, y_pred_ols)\n",
    "r_squared = r2_score(y_test, y_pred_ols)\n",
    "print('Mean Squared Error:' ,mse)\n",
    "print('r square:',r_squared)"
   ]
  },
  {
   "cell_type": "markdown",
   "metadata": {
    "_uuid": "1c07949f3293cce58b130b6714329bb0696ff2e1"
   },
   "source": [
    "## Ridge regression model and Prediction"
   ]
  },
  {
   "cell_type": "code",
   "execution_count": null,
   "metadata": {
    "_uuid": "2a69eb8e90d7eab1d5343ce3c0aadf42c2f1db04",
    "collapsed": true,
    "scrolled": true
   },
   "outputs": [],
   "source": [
    "ridge1 = Ridge(alpha = 4, normalize = True)\n",
    "ridge1.fit(X_train, y_train)              # Fit a ridge regression on the training data\n",
    "pred_ridge1 = ridge1.predict(X_test)           # Use this model to predict the test data\n",
    "print(pd.Series(ridge1.coef_, index = X.columns))# Print coefficients\n",
    "print(\"MSE for test\",mean_squared_error(y_test, pred_ridge1)) \n",
    "print(\"R2 for test\",r2_score(y_test,pred_ridge1))"
   ]
  },
  {
   "cell_type": "code",
   "execution_count": null,
   "metadata": {
    "_uuid": "5247099480398c933397e0dc7cbcf0d782ef16ff",
    "collapsed": true,
    "scrolled": true
   },
   "outputs": [],
   "source": [
    "ridge2 = Ridge(alpha = 10**10, normalize = True)\n",
    "ridge2.fit(X_train, y_train)             # Fit a ridge regression on the training data\n",
    "pred_ridge2 = ridge2.predict(X_test)           # Use this model to predict the test data\n",
    "print(pd.Series(ridge2.coef_, index = X.columns)) # Print coefficients\n",
    "print(\"MSE for test\",mean_squared_error(y_test, pred_ridge2))\n",
    "print(\"R2 for test\",r2_score(y_test,pred_ridge2))"
   ]
  },
  {
   "cell_type": "code",
   "execution_count": null,
   "metadata": {
    "_uuid": "d2f02a3bbe9b78a9086da0ff482d2f2dd257ad4d",
    "collapsed": true,
    "scrolled": true
   },
   "outputs": [],
   "source": [
    "ridge3 = Ridge(alpha = 0, normalize = True) # alpha = 0 is a linear regression\n",
    "ridge3.fit(X_train, y_train)             # Fit a ridge regression on the training data\n",
    "pred_ridge3 = ridge3.predict(X_test)            # Use this model to predict the test data\n",
    "print(pd.Series(ridge3.coef_, index = X.columns)) # Print coefficients\n",
    "print(\"MSE for test\",mean_squared_error(y_test, pred_ridge3)) \n",
    "print(\"R2 for test\",r2_score(y_test,pred_ridge3))"
   ]
  },
  {
   "cell_type": "code",
   "execution_count": null,
   "metadata": {
    "_uuid": "ce166ccc5a0789848b77b4d663dbb7a541b6d4f6",
    "collapsed": true,
    "scrolled": true
   },
   "outputs": [],
   "source": [
    "alphas = 10**np.linspace(10,-2,100)*0.5\n",
    "print(alphas)\n"
   ]
  },
  {
   "cell_type": "code",
   "execution_count": null,
   "metadata": {
    "_uuid": "ff793fe02970f470ff579edb426e4bbae16dd6db",
    "collapsed": true
   },
   "outputs": [],
   "source": [
    "ridgecv = RidgeCV(alphas = alphas, scoring = 'neg_mean_squared_error', normalize = True)\n",
    "ridgecv.fit(X_train, y_train)\n",
    "print(\"Ideal alpha\",ridgecv.alpha_)"
   ]
  },
  {
   "cell_type": "markdown",
   "metadata": {
    "_uuid": "cd00b6a0eed3cd95ae046c7ef665d893144b468f"
   },
   "source": [
    "##  Best model using Ridge regression "
   ]
  },
  {
   "cell_type": "code",
   "execution_count": null,
   "metadata": {
    "_uuid": "6075f8f7855d10807bd8a7a56270fc2642e420ab",
    "collapsed": true,
    "scrolled": true
   },
   "outputs": [],
   "source": [
    "\n",
    "ridge4 = Ridge(alpha = ridgecv.alpha_, normalize = True)\n",
    "ridge4.fit(X_train, y_train)\n",
    "pred_ridge4 = ridge4.predict(X_test)            # Use this model to predict the test data\n",
    "print(pd.Series(ridge4.coef_, index = X.columns))\n",
    "print(\"MSE for test\",mean_squared_error(y_test, pred_ridge4))\n",
    "print(\"R2 for test\",r2_score(y_test,pred_ridge4))"
   ]
  },
  {
   "cell_type": "markdown",
   "metadata": {
    "_uuid": "d6f6d543e67bca8af6a26943fa773c73abd43e91"
   },
   "source": [
    "## Lasso Regression model and prediction"
   ]
  },
  {
   "cell_type": "code",
   "execution_count": null,
   "metadata": {
    "_uuid": "66954bf7ce715f8b6cfd87c1e26041d532aab274",
    "collapsed": true
   },
   "outputs": [],
   "source": [
    "lasso = Lasso(max_iter = 10000, normalize = True)\n",
    "coefs = []\n",
    "\n",
    "for a in alphas:\n",
    "    lasso.set_params(alpha=a)\n",
    "    lasso.fit(X_train, y_train)\n",
    "    coefs.append(lasso.coef_)\n",
    "    \n",
    "ax = plt.gca()\n",
    "ax.plot(alphas*2, coefs)\n",
    "ax.set_xscale('log')\n",
    "plt.axis('tight')\n",
    "plt.xlabel('alpha')\n",
    "plt.ylabel('weights')"
   ]
  },
  {
   "cell_type": "code",
   "execution_count": null,
   "metadata": {
    "_uuid": "f3a040ed04871c3826356bba2e9b6b6117d39421",
    "collapsed": true,
    "scrolled": true
   },
   "outputs": [],
   "source": [
    "lassocv = LassoCV(alphas = None, cv = 10, max_iter = 100000, normalize = True)\n",
    "lassocv.fit(X_train, y_train)\n",
    "\n",
    "lasso.set_params(alpha=lassocv.alpha_)\n",
    "lasso.fit(X_train, y_train)\n",
    "pred_lasso = lasso.predict(X_test)            # Use this model to predict the test data\n",
    "print(pd.Series(lasso.coef_, index = X.columns))\n",
    "print(\"MSE for test\",mean_squared_error(y_test, pred_lasso))\n",
    "print(\"R2 for test\",r2_score(y_test,pred_lasso))"
   ]
  },
  {
   "cell_type": "markdown",
   "metadata": {
    "_uuid": "0429f7ba7b774842b097c6ba375c6ae1a30d4fec"
   },
   "source": [
    "## K nearest neighbour regression model and prediction for different number of N"
   ]
  },
  {
   "cell_type": "code",
   "execution_count": null,
   "metadata": {
    "_uuid": "dad5fff7445e1ff82aa1dc23de20da05e6c0eb92",
    "collapsed": true
   },
   "outputs": [],
   "source": [
    "knn2 = KNeighborsRegressor(n_neighbors=2)\n",
    "knn2.fit(X_train, y_train)\n",
    "print(\"R2 for Train dataset\",knn2.score(X_train, y_train))\n",
    "pred_knn2 = knn2.predict(X_test)\n",
    "print(\"MSE for test\",mean_squared_error(y_test,pred_knn2))\n",
    "print(\"R2 for test\",r2_score(y_test,pred_knn2))"
   ]
  },
  {
   "cell_type": "code",
   "execution_count": null,
   "metadata": {
    "_uuid": "b4e8c1d211c6b902ef3857fa1396e1b67413a558",
    "collapsed": true
   },
   "outputs": [],
   "source": [
    "knn5 = KNeighborsRegressor(n_neighbors=5)\n",
    "knn5.fit(X_train, y_train)\n",
    "print(\"R2 for Train dataset\",knn5.score(X_train, y_train))\n",
    "pred_knn5 = knn5.predict(X_test)\n",
    "print(\"MSE for test\",mean_squared_error(y_test,pred_knn5))\n",
    "print(\"R2 for test\",r2_score(y_test,pred_knn5))"
   ]
  },
  {
   "cell_type": "markdown",
   "metadata": {
    "_uuid": "c5b092f87c36c473d2f4952bcb2bf225651e837f"
   },
   "source": [
    "## Best model using KNN ,n_neighbours = 3"
   ]
  },
  {
   "cell_type": "code",
   "execution_count": null,
   "metadata": {
    "_uuid": "bcde9f67d8bcf63bbf09c8888ed866f7ccc568de",
    "collapsed": true
   },
   "outputs": [],
   "source": [
    "\n",
    "knn3 = KNeighborsRegressor(n_neighbors=3)\n",
    "knn3.fit(X_train, y_train)\n",
    "print(\"R2 for Train dataset\",knn3.score(X_train, y_train))\n",
    "pred_knn3 = knn3.predict(X_test)\n",
    "print(\"MSE for test\",mean_squared_error(y_test,pred_knn3))\n",
    "print(\"R2 for test\",r2_score(y_test,pred_knn3))"
   ]
  },
  {
   "cell_type": "code",
   "execution_count": null,
   "metadata": {
    "_uuid": "fb2cefbbe5f939849b3e0bdac6b0e58e0ca8e41f",
    "collapsed": true
   },
   "outputs": [],
   "source": [
    "knn4 = KNeighborsRegressor(n_neighbors=4)\n",
    "knn4.fit(X_train, y_train)\n",
    "print(\"R2 for Train dataset\",knn4.score(X_train, y_train))\n",
    "pred_knn4 = knn4.predict(X_test)\n",
    "print(\"MSE for test\",mean_squared_error(y_test,pred_knn4))\n",
    "print(\"R2 for test\",r2_score(y_test,pred_knn4))"
   ]
  },
  {
   "cell_type": "markdown",
   "metadata": {
    "_uuid": "e656d148bc177ecb56da07b24216149bdc7816c9"
   },
   "source": [
    "## SVM model"
   ]
  },
  {
   "cell_type": "code",
   "execution_count": null,
   "metadata": {
    "_uuid": "9130d8f67d01397706661d5ba739ca15b35b14ea",
    "collapsed": true
   },
   "outputs": [],
   "source": [
    "#svr_rbf = SVR(kernel='rbf', C=1e3, gamma=0.1)\n",
    "#svr_rbf.fit(X_train,y_train)\n",
    "#pred = svr_rbf.predict(X_test)\n",
    "#print(\"MSE\",mean_squared_error(y_test,pred))\n",
    "#print(\"R2\",r2_score(y_test,pred))"
   ]
  },
  {
   "cell_type": "code",
   "execution_count": null,
   "metadata": {
    "_uuid": "091abb29aaa59954966faafa26ec266c9bc0561e",
    "collapsed": true
   },
   "outputs": [],
   "source": [
    "#svr_rbf = SVR(kernel='linear', C=1e3)\n",
    "#svr_rbf.fit(X_train,y_train)\n",
    "#pred = svr_rbf.predict(X_test)\n",
    "#print(\"MSE\",mean_squared_error(y_test,pred))\n",
    "#print(\"R2\",r2_score(y_test,pred))"
   ]
  },
  {
   "cell_type": "markdown",
   "metadata": {
    "_uuid": "48cd7f5ddfe298f24518ffabdc617a28680b3666"
   },
   "source": [
    "## Random Forest regression model and prediction by tuning number of estimators."
   ]
  },
  {
   "cell_type": "code",
   "execution_count": null,
   "metadata": {
    "_uuid": "56c511611acca6d6d444a6ca7b58eac42138c602",
    "collapsed": true
   },
   "outputs": [],
   "source": [
    "regr1 = RandomForestRegressor(random_state=0, n_jobs=-1)\n",
    "model1 = regr1.fit(X_train, y_train)\n",
    "model1.score(X_train, y_train)\n",
    "pred_rf1 = model1.predict(X_test)\n",
    "print(\"MSE for test\",mean_squared_error(y_test,pred_rf1))\n",
    "print(\"R2 for test\",r2_score(y_test,pred_rf1))"
   ]
  },
  {
   "cell_type": "code",
   "execution_count": null,
   "metadata": {
    "_uuid": "c0f3bf9d944af209ebeb25dfed44a1086c1df994",
    "collapsed": true
   },
   "outputs": [],
   "source": [
    "regr2 = RandomForestRegressor(n_estimators=50,random_state=0, n_jobs=-1)\n",
    "model2 = regr2.fit(X_train, y_train)\n",
    "model2.score(X_train, y_train)\n",
    "pred_rf2 = model2.predict(X_test)\n",
    "print(\"MSE for test\",mean_squared_error(y_test,pred_rf2))\n",
    "print(\"R2 for test\",r2_score(y_test,pred_rf2))"
   ]
  },
  {
   "cell_type": "code",
   "execution_count": null,
   "metadata": {
    "_uuid": "ac062f69c21ecf4768c2e2394798a5d92c7e724d",
    "collapsed": true
   },
   "outputs": [],
   "source": [
    "regr3 = RandomForestRegressor(n_estimators=100,random_state=0, n_jobs=-1)\n",
    "model3 = regr3.fit(X_train, y_train)\n",
    "model3.score(X_train, y_train)\n",
    "pred_rf3 = model3.predict(X_test)\n",
    "print(\"MSE for test\",mean_squared_error(y_test,pred_rf3))\n",
    "print(\"R2 for test\",r2_score(y_test,pred_rf3))"
   ]
  },
  {
   "cell_type": "markdown",
   "metadata": {
    "_uuid": "f173e37309ac411a8419c22c723d74dfd2df01f3"
   },
   "source": [
    "## Grid search to find the best model"
   ]
  },
  {
   "cell_type": "code",
   "execution_count": null,
   "metadata": {
    "_uuid": "a11011740a51facf25c9ccd406c5b98562bdde97",
    "collapsed": true
   },
   "outputs": [],
   "source": [
    "parameters = {\n",
    "    \"n_estimators\": [5, 10, 25, 50, 70, 100, 110, 150], # Test out various amounts of trees in the forest\n",
    "    #\"max_features\": [0.25] # Test amount of features\n",
    "}\n",
    "regr_grid = RandomForestRegressor()\n",
    "grid_rf = GridSearchCV(regr_grid,parameters)"
   ]
  },
  {
   "cell_type": "code",
   "execution_count": null,
   "metadata": {
    "_uuid": "8faae1f6227da5de4638fc75789563f070646066",
    "collapsed": true,
    "scrolled": true
   },
   "outputs": [],
   "source": [
    "grid_rf.fit(X_train, y_train)"
   ]
  },
  {
   "cell_type": "code",
   "execution_count": null,
   "metadata": {
    "_uuid": "47596d50c939acce47525ea3e4908cd2273ddc97",
    "collapsed": true
   },
   "outputs": [],
   "source": [
    "grid_rf.best_params_"
   ]
  },
  {
   "cell_type": "markdown",
   "metadata": {
    "_uuid": "497c6cdb5dc1607f742619314102b493b0eb9145"
   },
   "source": [
    "## Best model using Random forest"
   ]
  },
  {
   "cell_type": "code",
   "execution_count": null,
   "metadata": {
    "_uuid": "ab826d61ca42b8618d59d61ecc6f487b7f405dbc",
    "collapsed": true
   },
   "outputs": [],
   "source": [
    "\n",
    "regr4 = RandomForestRegressor(n_estimators=25,random_state=0, n_jobs=-1)\n",
    "model4 = regr4.fit(X_train, y_train)\n",
    "model4.score(X_train, y_train)\n",
    "pred_rf4 = model4.predict(X_test)\n",
    "print(\"MSE for test\",mean_squared_error(y_test,pred_rf4))\n",
    "print(\"R2 for test\",r2_score(y_test,pred_rf4))"
   ]
  },
  {
   "cell_type": "code",
   "execution_count": null,
   "metadata": {
    "_uuid": "3bdb27b96983d430c493e7e09e30b8814fa2434d",
    "collapsed": true
   },
   "outputs": [],
   "source": [
    "feature_importances = pd.DataFrame(regr4.feature_importances_,\n",
    "                                   index = X_train.columns,\n",
    "                                    columns=['importance']).sort_values('importance',ascending=False)\n",
    "feature_importances"
   ]
  },
  {
   "cell_type": "markdown",
   "metadata": {
    "_uuid": "3d46a2a0a7c261aa89d75c24682ac924e6a2f230"
   },
   "source": [
    "## Feature importance plot"
   ]
  },
  {
   "cell_type": "code",
   "execution_count": null,
   "metadata": {
    "_uuid": "20b56c069e1cebc40bbfa2bef28f3a278adb3bfa",
    "collapsed": true,
    "scrolled": true
   },
   "outputs": [],
   "source": [
    "f, ax = plt.subplots(figsize=(15, 12))\n",
    "plt.xticks(rotation='90')\n",
    "sns.barplot(x=feature_importances.index, y=feature_importances.importance,palette=\"deep\")\n",
    "plt.xlabel('Features', fontsize=15)\n",
    "plt.ylabel('Feature importance', fontsize=15)\n",
    "plt.title('Feature importance using Random Forest model', fontsize=15)"
   ]
  },
  {
   "cell_type": "markdown",
   "metadata": {
    "_uuid": "e7de4e3422155a77f80675e1e13cea3ea01ec13d"
   },
   "source": [
    "## Gradient Boosting regression model and prediction by tuning parameters"
   ]
  },
  {
   "cell_type": "code",
   "execution_count": null,
   "metadata": {
    "_uuid": "77320fc3112b8a0451344acb54ac58327a1b9ded",
    "collapsed": true,
    "scrolled": true
   },
   "outputs": [],
   "source": [
    "gbr1=GradientBoostingRegressor(n_estimators=100) \n",
    "gbr1.fit(X_train, y_train) \n",
    "pred_gbr1=gbr1.predict(X_test)\n",
    "print(\"MSE for test\",mean_squared_error(y_test,pred_gbr1))\n",
    "print(\"R2 for test\",r2_score(y_test,pred_gbr1))\n",
    "print(\"Train score\",gbr1.score(X_train, y_train))\n",
    "print(\"Test score\",gbr1.score(X_test, y_test))"
   ]
  },
  {
   "cell_type": "code",
   "execution_count": null,
   "metadata": {
    "_uuid": "935412eab6a4e78d85140fdceddc51bd3e91ae3f",
    "collapsed": true
   },
   "outputs": [],
   "source": [
    "feature_importances_gbr1 = pd.DataFrame(gbr1.feature_importances_,\n",
    "                                   index = X_train.columns,\n",
    "                                    columns=['importance']).sort_values('importance',ascending=False)\n",
    "feature_importances_gbr1"
   ]
  },
  {
   "cell_type": "code",
   "execution_count": null,
   "metadata": {
    "_uuid": "7609a3ed221464228ab74137bb860ae03259990c",
    "collapsed": true
   },
   "outputs": [],
   "source": [
    "f, ax = plt.subplots(figsize=(15, 12))\n",
    "plt.xticks(rotation='90')\n",
    "sns.barplot(x=feature_importances_gbr1.index, y=feature_importances_gbr1.importance,palette=\"pastel\")\n",
    "plt.xlabel('Features', fontsize=15)\n",
    "plt.ylabel('Feature importance', fontsize=15)\n",
    "plt.title('Feature importance using GBR model', fontsize=15)"
   ]
  },
  {
   "cell_type": "code",
   "execution_count": null,
   "metadata": {
    "_uuid": "8b912733272bd249f1f34824d0466912e5b694c0",
    "collapsed": true
   },
   "outputs": [],
   "source": [
    "gbr2 = GradientBoostingRegressor(alpha=0.9, init=None, learning_rate=0.1, loss='ls', max_depth=6, \n",
    "                          max_features=1.0, max_leaf_nodes=None, min_samples_leaf=3, \n",
    "                          min_samples_split=2, n_estimators=100, random_state=None, subsample=1.0, \n",
    "                          verbose=0, warm_start=False) \n",
    "gbr2.fit(X_train,y_train)\n",
    "pred_gbr2=gbr2.predict(X_test)\n",
    "print(\"MSE for test\",mean_squared_error(y_test,pred_gbr2))\n",
    "print(\"R2 for test\",r2_score(y_test,pred_gbr2))\n",
    "print(\"Train score\",gbr2.score(X_train, y_train))\n",
    "print(\"Test score\",gbr2.score(X_test, y_test))"
   ]
  },
  {
   "cell_type": "code",
   "execution_count": null,
   "metadata": {
    "_uuid": "d8a2b755b268b7225ba5d5af8935ab48b687d949",
    "collapsed": true,
    "scrolled": true
   },
   "outputs": [],
   "source": [
    "feature_importances_gbr2 = pd.DataFrame(gbr2.feature_importances_,\n",
    "                                   index = X_train.columns,\n",
    "                                    columns=['importance']).sort_values('importance',ascending=False)\n",
    "feature_importances_gbr2"
   ]
  },
  {
   "cell_type": "code",
   "execution_count": null,
   "metadata": {
    "_uuid": "f7411e433bd3a6b2288629e3392dc72e70ab0c13",
    "collapsed": true
   },
   "outputs": [],
   "source": [
    "f, ax = plt.subplots(figsize=(15, 12))\n",
    "plt.xticks(rotation='90')\n",
    "sns.barplot(x=feature_importances_gbr2.index, y=feature_importances_gbr2.importance,palette=\"bright\")\n",
    "plt.xlabel('Features', fontsize=15)\n",
    "plt.ylabel('Feature importance', fontsize=15)\n",
    "plt.title('Feature importance using GBR model', fontsize=15)"
   ]
  },
  {
   "cell_type": "markdown",
   "metadata": {
    "_uuid": "21e52242990e2802ae9d768e1dcd1e2e0e5cc7ef"
   },
   "source": [
    "## Parameter tuning using Grid search"
   ]
  },
  {
   "cell_type": "code",
   "execution_count": null,
   "metadata": {
    "_uuid": "9faac95c02b84b318ae0e5a69e0d9aa94635c3e4",
    "collapsed": true
   },
   "outputs": [],
   "source": [
    "def GradientBooster(param_grid, n_jobs): \n",
    "    estimator = GradientBoostingRegressor()\n",
    "    cv = ShuffleSplit(X_train.shape[0], n_iter=10, test_size=0.2) \n",
    "    classifier = GridSearchCV(estimator=estimator, cv=cv, param_grid=param_grid, n_jobs=n_jobs)\n",
    "    classifier.fit(X_train, y_train)\n",
    "    print (\"Best Estimator learned through GridSearch\")\n",
    "    print (classifier.best_estimator_) \n",
    "    return cv, classifier.best_estimator_ "
   ]
  },
  {
   "cell_type": "code",
   "execution_count": null,
   "metadata": {
    "_uuid": "3cf893300f7b502a837254adce43ea6b8588bda1",
    "collapsed": true,
    "scrolled": true
   },
   "outputs": [],
   "source": [
    "param_grid={'n_estimators':[100], 'learning_rate': [0.1, 0.05, 0.02, 0.01], 'max_depth':[6,4],\n",
    "            'min_samples_leaf':[3,5,9,17], 'max_features':[1.0,0.3] } \n",
    "n_jobs=4 #Let's fit GBRT to the digits training dataset by calling the function we just created. \n",
    "cv,best_est=GradientBooster(param_grid, n_jobs) "
   ]
  },
  {
   "cell_type": "markdown",
   "metadata": {
    "_uuid": "c113c271ec3cf6ead7f2bab73803d0101ad7f8a8"
   },
   "source": [
    "## Best model using GBR"
   ]
  },
  {
   "cell_type": "code",
   "execution_count": null,
   "metadata": {
    "_uuid": "7884e58e17d2c89cad819244c43e4d4b31bbb0b2",
    "collapsed": true
   },
   "outputs": [],
   "source": [
    "gbr3 = GradientBoostingRegressor(alpha=0.9, criterion='friedman_mse', init=None,\n",
    "             learning_rate=0.1, loss='ls', max_depth=6, max_features=0.3,\n",
    "             max_leaf_nodes=None, min_impurity_decrease=0.0,\n",
    "             min_impurity_split=None, min_samples_leaf=3,\n",
    "             min_samples_split=2, min_weight_fraction_leaf=0.0,\n",
    "             n_estimators=100, n_iter_no_change=None, presort='auto',\n",
    "             random_state=None, subsample=1.0, tol=0.0001,\n",
    "             validation_fraction=0.1, verbose=0, warm_start=False)\n",
    "gbr3.fit(X_train,y_train)\n",
    "pred_gbr3=gbr3.predict(X_test)\n",
    "print(\"MSE for test\",mean_squared_error(y_test,pred_gbr3))\n",
    "print(\"R2 for test\",r2_score(y_test,pred_gbr3))\n",
    "print(\"Train score\",gbr3.score(X_train, y_train))\n",
    "print(\"Test score\",gbr3.score(X_test, y_test))"
   ]
  },
  {
   "cell_type": "code",
   "execution_count": null,
   "metadata": {
    "_uuid": "d1a36f407090d0f6ef917060deb00ee8fa5a805b",
    "collapsed": true,
    "scrolled": true
   },
   "outputs": [],
   "source": [
    "feature_importances_gbr3 = pd.DataFrame(gbr3.feature_importances_,\n",
    "                                   index = X_train.columns,\n",
    "                                    columns=['importance']).sort_values('importance',ascending=False)\n",
    "feature_importances_gbr3"
   ]
  },
  {
   "cell_type": "markdown",
   "metadata": {
    "_uuid": "3e784251ab342aba0e7658d5ac3286b9f0c3485d"
   },
   "source": [
    "## Feature importance plot"
   ]
  },
  {
   "cell_type": "code",
   "execution_count": null,
   "metadata": {
    "_uuid": "acf05034de9fe8eff7479d953db13ab975254d42",
    "collapsed": true
   },
   "outputs": [],
   "source": [
    "f, ax = plt.subplots(figsize=(15, 12))\n",
    "plt.xticks(rotation='90')\n",
    "sns.barplot(x=feature_importances_gbr3.index, y=feature_importances_gbr3.importance,palette=\"muted\")\n",
    "plt.xlabel('Features', fontsize=15)\n",
    "plt.ylabel('Feature importance', fontsize=15)\n",
    "plt.title('Feature importance using GBR model', fontsize=15)"
   ]
  },
  {
   "cell_type": "markdown",
   "metadata": {
    "_uuid": "7601722a5bb0af4ce8f150e5cde4676a38cddd2f",
    "collapsed": true
   },
   "source": [
    "# From all the above models, we found Gradient boosting regression is the best model with R2 of 96.94%."
   ]
  }
 ],
 "metadata": {
  "kernelspec": {
   "display_name": "Python 3",
   "language": "python",
   "name": "python3"
  },
  "language_info": {
   "codemirror_mode": {
    "name": "ipython",
    "version": 3
   },
   "file_extension": ".py",
   "mimetype": "text/x-python",
   "name": "python",
   "nbconvert_exporter": "python",
   "pygments_lexer": "ipython3",
   "version": "3.7.6"
  }
 },
 "nbformat": 4,
 "nbformat_minor": 1
}
